{
 "cells": [
  {
   "cell_type": "markdown",
   "metadata": {},
   "source": [
    "# case study : product analysis"
   ]
  },
  {
   "cell_type": "markdown",
   "metadata": {},
   "source": [
    "A strategy manager wants to get a quick snapshot of a product over a certain period of time.  Please\n",
    "\n",
    "1. Create visualization(s) to help him/her understand the performance of product through data shown in \"data\" tab. \n",
    "2. Provide a short paragraph to explain/ highlight any interesting/insightful observation."
   ]
  },
  {
   "cell_type": "markdown",
   "metadata": {},
   "source": [
    "## 01 setup\n",
    "import dependencies and load dataset"
   ]
  },
  {
   "cell_type": "code",
   "execution_count": 126,
   "metadata": {},
   "outputs": [],
   "source": [
    "import pandas as pd\n",
    "import datetime as dt\n",
    "import seaborn as sbn\n",
    "import matplotlib.pyplot as plt"
   ]
  },
  {
   "cell_type": "code",
   "execution_count": 56,
   "metadata": {},
   "outputs": [],
   "source": [
    "data = pd.read_csv('product_dataset.csv')"
   ]
  },
  {
   "cell_type": "code",
   "execution_count": 24,
   "metadata": {
    "scrolled": true
   },
   "outputs": [
    {
     "data": {
      "text/html": [
       "<div>\n",
       "<style scoped>\n",
       "    .dataframe tbody tr th:only-of-type {\n",
       "        vertical-align: middle;\n",
       "    }\n",
       "\n",
       "    .dataframe tbody tr th {\n",
       "        vertical-align: top;\n",
       "    }\n",
       "\n",
       "    .dataframe thead th {\n",
       "        text-align: right;\n",
       "    }\n",
       "</style>\n",
       "<table border=\"1\" class=\"dataframe\">\n",
       "  <thead>\n",
       "    <tr style=\"text-align: right;\">\n",
       "      <th></th>\n",
       "      <th>Date</th>\n",
       "      <th>Product Type</th>\n",
       "      <th>Status</th>\n",
       "      <th>Total Order</th>\n",
       "      <th>Total GMV</th>\n",
       "    </tr>\n",
       "  </thead>\n",
       "  <tbody>\n",
       "    <tr>\n",
       "      <th>0</th>\n",
       "      <td>02/01/2016</td>\n",
       "      <td>bpjs</td>\n",
       "      <td>created</td>\n",
       "      <td>913</td>\n",
       "      <td>5,492</td>\n",
       "    </tr>\n",
       "    <tr>\n",
       "      <th>1</th>\n",
       "      <td>04/01/2016</td>\n",
       "      <td>bpjs</td>\n",
       "      <td>created</td>\n",
       "      <td>915</td>\n",
       "      <td>4,510</td>\n",
       "    </tr>\n",
       "    <tr>\n",
       "      <th>2</th>\n",
       "      <td>05/01/2016</td>\n",
       "      <td>bpjs</td>\n",
       "      <td>created</td>\n",
       "      <td>639</td>\n",
       "      <td>6,896</td>\n",
       "    </tr>\n",
       "    <tr>\n",
       "      <th>3</th>\n",
       "      <td>06/01/2016</td>\n",
       "      <td>bpjs</td>\n",
       "      <td>created</td>\n",
       "      <td>234</td>\n",
       "      <td>6,153</td>\n",
       "    </tr>\n",
       "    <tr>\n",
       "      <th>4</th>\n",
       "      <td>08/01/2016</td>\n",
       "      <td>bpjs</td>\n",
       "      <td>created</td>\n",
       "      <td>533</td>\n",
       "      <td>8,292</td>\n",
       "    </tr>\n",
       "  </tbody>\n",
       "</table>\n",
       "</div>"
      ],
      "text/plain": [
       "         Date Product Type   Status Total Order Total GMV\n",
       "0  02/01/2016         bpjs  created         913     5,492\n",
       "1  04/01/2016         bpjs  created         915     4,510\n",
       "2  05/01/2016         bpjs  created         639     6,896\n",
       "3  06/01/2016         bpjs  created         234     6,153\n",
       "4  08/01/2016         bpjs  created         533     8,292"
      ]
     },
     "execution_count": 24,
     "metadata": {},
     "output_type": "execute_result"
    }
   ],
   "source": [
    "data.head()"
   ]
  },
  {
   "cell_type": "markdown",
   "metadata": {},
   "source": [
    "## 02 dataset description\n"
   ]
  },
  {
   "cell_type": "markdown",
   "metadata": {},
   "source": [
    "*Fields*\n",
    "\n",
    "The dataset contains the following fields\n",
    "\n",
    "| field | description |\n",
    "| --- | --- |\n",
    "| Date | — |\n",
    "| Product Type | — |\n",
    "| Status | see status table below |\n",
    "| Total Order | Order units? Not defined in the Data dictionary provided |\n",
    "| GMV | Gross Merchandise Value. The total amount a customer should pay for a successfully completed order. |"
   ]
  },
  {
   "cell_type": "markdown",
   "metadata": {},
   "source": [
    "*Status types*\n",
    "\n",
    "Four product stages were listed, with the presumed sequence in the illustration below\n",
    "\n",
    "| Status | Description |\n",
    "| --- | --- |\n",
    "| Created | The order only until customer receive orderId |\n",
    "| Failed | Bug in the system |\n",
    "| Fulfilled | The order was successfully completed |\n",
    "| Refund | The order was successfully refunded to customers |"
   ]
  },
  {
   "cell_type": "code",
   "execution_count": 4,
   "metadata": {},
   "outputs": [
    {
     "data": {
      "image/png": "[encoded data removed]",
      "text/plain": [
       "<IPython.core.display.Image object>"
      ]
     },
     "execution_count": 4,
     "metadata": {},
     "output_type": "execute_result"
    }
   ],
   "source": [
    "from IPython.display import Image\n",
    "Image(filename='product stages.png')"
   ]
  },
  {
   "cell_type": "markdown",
   "metadata": {},
   "source": [
    "## 03 analysis \n",
    "### 03.01 dataset conditioning and cleanup"
   ]
  },
  {
   "cell_type": "code",
   "execution_count": 57,
   "metadata": {},
   "outputs": [],
   "source": [
    "#03.01.01 rename fields to remove spaces\n",
    "data.rename(columns={\n",
    "    'Product Type': 'product_type',\n",
    "    'Total Order': 'total_order',\n",
    "    'Total GMV': 'total_gmv'\n",
    "}, inplace=True)\n",
    "\n",
    "#03.01.02 convert Date from str to datetime class\n",
    "date_format = '%d/%m/%Y'\n",
    "data['Date'] = data['Date'].apply(lambda x: dt.datetime.strptime(x, date_format))\n",
    "data['total_order'] = data['total_order'].apply(lambda x: int(x.replace(',', '')))\n",
    "data['total_gmv'] = data['total_gmv'].apply(lambda x: int(x.replace(',', '')))"
   ]
  },
  {
   "cell_type": "code",
   "execution_count": 26,
   "metadata": {
    "scrolled": true
   },
   "outputs": [
    {
     "data": {
      "text/html": [
       "<div>\n",
       "<style scoped>\n",
       "    .dataframe tbody tr th:only-of-type {\n",
       "        vertical-align: middle;\n",
       "    }\n",
       "\n",
       "    .dataframe tbody tr th {\n",
       "        vertical-align: top;\n",
       "    }\n",
       "\n",
       "    .dataframe thead th {\n",
       "        text-align: right;\n",
       "    }\n",
       "</style>\n",
       "<table border=\"1\" class=\"dataframe\">\n",
       "  <thead>\n",
       "    <tr style=\"text-align: right;\">\n",
       "      <th></th>\n",
       "      <th>Date</th>\n",
       "      <th>product_type</th>\n",
       "      <th>Status</th>\n",
       "      <th>total_order</th>\n",
       "      <th>total_gmv</th>\n",
       "    </tr>\n",
       "  </thead>\n",
       "  <tbody>\n",
       "    <tr>\n",
       "      <th>0</th>\n",
       "      <td>2016-01-02</td>\n",
       "      <td>bpjs</td>\n",
       "      <td>created</td>\n",
       "      <td>913</td>\n",
       "      <td>5492</td>\n",
       "    </tr>\n",
       "    <tr>\n",
       "      <th>1</th>\n",
       "      <td>2016-01-04</td>\n",
       "      <td>bpjs</td>\n",
       "      <td>created</td>\n",
       "      <td>915</td>\n",
       "      <td>4510</td>\n",
       "    </tr>\n",
       "    <tr>\n",
       "      <th>2</th>\n",
       "      <td>2016-01-05</td>\n",
       "      <td>bpjs</td>\n",
       "      <td>created</td>\n",
       "      <td>639</td>\n",
       "      <td>6896</td>\n",
       "    </tr>\n",
       "    <tr>\n",
       "      <th>3</th>\n",
       "      <td>2016-01-06</td>\n",
       "      <td>bpjs</td>\n",
       "      <td>created</td>\n",
       "      <td>234</td>\n",
       "      <td>6153</td>\n",
       "    </tr>\n",
       "    <tr>\n",
       "      <th>4</th>\n",
       "      <td>2016-01-08</td>\n",
       "      <td>bpjs</td>\n",
       "      <td>created</td>\n",
       "      <td>533</td>\n",
       "      <td>8292</td>\n",
       "    </tr>\n",
       "  </tbody>\n",
       "</table>\n",
       "</div>"
      ],
      "text/plain": [
       "        Date product_type   Status  total_order  total_gmv\n",
       "0 2016-01-02         bpjs  created          913       5492\n",
       "1 2016-01-04         bpjs  created          915       4510\n",
       "2 2016-01-05         bpjs  created          639       6896\n",
       "3 2016-01-06         bpjs  created          234       6153\n",
       "4 2016-01-08         bpjs  created          533       8292"
      ]
     },
     "execution_count": 26,
     "metadata": {},
     "output_type": "execute_result"
    }
   ],
   "source": [
    "data.head()"
   ]
  },
  {
   "cell_type": "markdown",
   "metadata": {},
   "source": [
    "### 03.02 basic description"
   ]
  },
  {
   "cell_type": "markdown",
   "metadata": {},
   "source": [
    "Two basic lines of enquiries are proposed for the initial analysis\n",
    "\n",
    "1. Cross-section analysis by stage and product type\n",
    "2. Time series\n",
    "\n",
    "There is no orderid provided, so cycle time by order is not possible, but stock-flow analysis is possible by product type."
   ]
  },
  {
   "cell_type": "markdown",
   "metadata": {},
   "source": [
    "**03.02.01 cross section**\n",
    "\n",
    "vertical bar charts\n",
    "\n",
    "1. created, fulfilled by volume, by value ranked by product type (excluding transfers)\n",
    "2. unit prices\n",
    "3. conversions - fulfillment %, refund %, failure%"
   ]
  },
  {
   "cell_type": "code",
   "execution_count": 58,
   "metadata": {},
   "outputs": [],
   "source": [
    "#03.02.03.00.01 exclude transfers\n",
    "no_xfr = data[data['product_type']!='transfer'].copy()"
   ]
  },
  {
   "cell_type": "code",
   "execution_count": 59,
   "metadata": {},
   "outputs": [],
   "source": [
    "#03.02.01.01.01 create pivot tables of gmv (value), and orders (volume) by product and status\n",
    "value_ps_total = pd.pivot_table(no_xfr, values='total_gmv', index='product_type', aggfunc='sum')\n",
    "volume_ps_total = pd.pivot_table(no_xfr, values='total_order', index='product_type', aggfunc='sum') \n",
    "\n",
    "value_ps = pd.pivot_table(no_xfr, values='total_gmv', columns='Status', index='product_type', aggfunc='sum')\n",
    "volume_ps = pd.pivot_table(no_xfr, values='total_order', columns='Status', index='product_type', aggfunc='sum') \n",
    "\n",
    "value_ps['total'] = value_ps_total\n",
    "volume_ps['total'] = volume_ps_total\n",
    "\n",
    "#03.02.01.01.02 show units in thousands \n",
    "value_ps = value_ps/1000\n",
    "volume_ps = volume_ps/1000"
   ]
  },
  {
   "cell_type": "code",
   "execution_count": 60,
   "metadata": {
    "scrolled": false
   },
   "outputs": [
    {
     "data": {
      "text/html": [
       "<div>\n",
       "<style scoped>\n",
       "    .dataframe tbody tr th:only-of-type {\n",
       "        vertical-align: middle;\n",
       "    }\n",
       "\n",
       "    .dataframe tbody tr th {\n",
       "        vertical-align: top;\n",
       "    }\n",
       "\n",
       "    .dataframe thead th {\n",
       "        text-align: right;\n",
       "    }\n",
       "</style>\n",
       "<table border=\"1\" class=\"dataframe\">\n",
       "  <thead>\n",
       "    <tr style=\"text-align: right;\">\n",
       "      <th>Status</th>\n",
       "      <th>created</th>\n",
       "      <th>failed</th>\n",
       "      <th>fulfilled</th>\n",
       "      <th>refund</th>\n",
       "      <th>total</th>\n",
       "    </tr>\n",
       "    <tr>\n",
       "      <th>product_type</th>\n",
       "      <th></th>\n",
       "      <th></th>\n",
       "      <th></th>\n",
       "      <th></th>\n",
       "      <th></th>\n",
       "    </tr>\n",
       "  </thead>\n",
       "  <tbody>\n",
       "    <tr>\n",
       "      <th>multifinance</th>\n",
       "      <td>140.088</td>\n",
       "      <td>NaN</td>\n",
       "      <td>76753.945</td>\n",
       "      <td>25216.541</td>\n",
       "      <td>102110.574</td>\n",
       "    </tr>\n",
       "    <tr>\n",
       "      <th>pdam</th>\n",
       "      <td>176.836</td>\n",
       "      <td>NaN</td>\n",
       "      <td>46033.009</td>\n",
       "      <td>46480.673</td>\n",
       "      <td>92690.518</td>\n",
       "    </tr>\n",
       "    <tr>\n",
       "      <th>bpjs</th>\n",
       "      <td>156.258</td>\n",
       "      <td>NaN</td>\n",
       "      <td>45222.648</td>\n",
       "      <td>43474.813</td>\n",
       "      <td>88853.719</td>\n",
       "    </tr>\n",
       "    <tr>\n",
       "      <th>electricity postpaid</th>\n",
       "      <td>22.567</td>\n",
       "      <td>NaN</td>\n",
       "      <td>44833.918</td>\n",
       "      <td>25829.684</td>\n",
       "      <td>70686.169</td>\n",
       "    </tr>\n",
       "    <tr>\n",
       "      <th>mobile postpaid</th>\n",
       "      <td>207.314</td>\n",
       "      <td>NaN</td>\n",
       "      <td>42504.964</td>\n",
       "      <td>36373.447</td>\n",
       "      <td>79085.725</td>\n",
       "    </tr>\n",
       "    <tr>\n",
       "      <th>e-money</th>\n",
       "      <td>283.947</td>\n",
       "      <td>NaN</td>\n",
       "      <td>42318.546</td>\n",
       "      <td>36878.208</td>\n",
       "      <td>79480.701</td>\n",
       "    </tr>\n",
       "    <tr>\n",
       "      <th>games</th>\n",
       "      <td>31.705</td>\n",
       "      <td>43585.209</td>\n",
       "      <td>29092.972</td>\n",
       "      <td>NaN</td>\n",
       "      <td>72709.886</td>\n",
       "    </tr>\n",
       "    <tr>\n",
       "      <th>mobile</th>\n",
       "      <td>166.125</td>\n",
       "      <td>NaN</td>\n",
       "      <td>20478.037</td>\n",
       "      <td>17768.227</td>\n",
       "      <td>38412.389</td>\n",
       "    </tr>\n",
       "    <tr>\n",
       "      <th>electricity</th>\n",
       "      <td>131.734</td>\n",
       "      <td>NaN</td>\n",
       "      <td>20117.329</td>\n",
       "      <td>18333.618</td>\n",
       "      <td>38582.681</td>\n",
       "    </tr>\n",
       "    <tr>\n",
       "      <th>data</th>\n",
       "      <td>57.407</td>\n",
       "      <td>NaN</td>\n",
       "      <td>19547.801</td>\n",
       "      <td>16146.756</td>\n",
       "      <td>35751.964</td>\n",
       "    </tr>\n",
       "  </tbody>\n",
       "</table>\n",
       "</div>"
      ],
      "text/plain": [
       "Status                created     failed  fulfilled     refund       total\n",
       "product_type                                                              \n",
       "multifinance          140.088        NaN  76753.945  25216.541  102110.574\n",
       "pdam                  176.836        NaN  46033.009  46480.673   92690.518\n",
       "bpjs                  156.258        NaN  45222.648  43474.813   88853.719\n",
       "electricity postpaid   22.567        NaN  44833.918  25829.684   70686.169\n",
       "mobile postpaid       207.314        NaN  42504.964  36373.447   79085.725\n",
       "e-money               283.947        NaN  42318.546  36878.208   79480.701\n",
       "games                  31.705  43585.209  29092.972        NaN   72709.886\n",
       "mobile                166.125        NaN  20478.037  17768.227   38412.389\n",
       "electricity           131.734        NaN  20117.329  18333.618   38582.681\n",
       "data                   57.407        NaN  19547.801  16146.756   35751.964"
      ]
     },
     "execution_count": 60,
     "metadata": {},
     "output_type": "execute_result"
    }
   ],
   "source": [
    "#03.02.01.01.03 show tables\n",
    "value_ps.sort_values('fulfilled', ascending=False)"
   ]
  },
  {
   "cell_type": "code",
   "execution_count": 61,
   "metadata": {
    "scrolled": true
   },
   "outputs": [
    {
     "data": {
      "text/html": [
       "<div>\n",
       "<style scoped>\n",
       "    .dataframe tbody tr th:only-of-type {\n",
       "        vertical-align: middle;\n",
       "    }\n",
       "\n",
       "    .dataframe tbody tr th {\n",
       "        vertical-align: top;\n",
       "    }\n",
       "\n",
       "    .dataframe thead th {\n",
       "        text-align: right;\n",
       "    }\n",
       "</style>\n",
       "<table border=\"1\" class=\"dataframe\">\n",
       "  <thead>\n",
       "    <tr style=\"text-align: right;\">\n",
       "      <th>Status</th>\n",
       "      <th>created</th>\n",
       "      <th>failed</th>\n",
       "      <th>fulfilled</th>\n",
       "      <th>refund</th>\n",
       "      <th>total</th>\n",
       "    </tr>\n",
       "    <tr>\n",
       "      <th>product_type</th>\n",
       "      <th></th>\n",
       "      <th></th>\n",
       "      <th></th>\n",
       "      <th></th>\n",
       "      <th></th>\n",
       "    </tr>\n",
       "  </thead>\n",
       "  <tbody>\n",
       "    <tr>\n",
       "      <th>multifinance</th>\n",
       "      <td>0.910</td>\n",
       "      <td>NaN</td>\n",
       "      <td>3509.855</td>\n",
       "      <td>1511.769</td>\n",
       "      <td>5022.534</td>\n",
       "    </tr>\n",
       "    <tr>\n",
       "      <th>data</th>\n",
       "      <td>12.846</td>\n",
       "      <td>NaN</td>\n",
       "      <td>3475.949</td>\n",
       "      <td>2934.872</td>\n",
       "      <td>6423.667</td>\n",
       "    </tr>\n",
       "    <tr>\n",
       "      <th>pdam</th>\n",
       "      <td>12.324</td>\n",
       "      <td>NaN</td>\n",
       "      <td>3350.346</td>\n",
       "      <td>3459.424</td>\n",
       "      <td>6822.094</td>\n",
       "    </tr>\n",
       "    <tr>\n",
       "      <th>bpjs</th>\n",
       "      <td>14.771</td>\n",
       "      <td>NaN</td>\n",
       "      <td>3310.642</td>\n",
       "      <td>3318.464</td>\n",
       "      <td>6643.877</td>\n",
       "    </tr>\n",
       "    <tr>\n",
       "      <th>electricity</th>\n",
       "      <td>25.987</td>\n",
       "      <td>NaN</td>\n",
       "      <td>3275.305</td>\n",
       "      <td>3173.585</td>\n",
       "      <td>6474.877</td>\n",
       "    </tr>\n",
       "    <tr>\n",
       "      <th>electricity postpaid</th>\n",
       "      <td>2.810</td>\n",
       "      <td>NaN</td>\n",
       "      <td>3212.227</td>\n",
       "      <td>2016.619</td>\n",
       "      <td>5231.656</td>\n",
       "    </tr>\n",
       "    <tr>\n",
       "      <th>games</th>\n",
       "      <td>2.637</td>\n",
       "      <td>3047.99</td>\n",
       "      <td>3164.513</td>\n",
       "      <td>NaN</td>\n",
       "      <td>6215.140</td>\n",
       "    </tr>\n",
       "    <tr>\n",
       "      <th>mobile</th>\n",
       "      <td>32.276</td>\n",
       "      <td>NaN</td>\n",
       "      <td>3116.789</td>\n",
       "      <td>3088.038</td>\n",
       "      <td>6237.103</td>\n",
       "    </tr>\n",
       "    <tr>\n",
       "      <th>e-money</th>\n",
       "      <td>33.585</td>\n",
       "      <td>NaN</td>\n",
       "      <td>3107.871</td>\n",
       "      <td>2714.357</td>\n",
       "      <td>5855.813</td>\n",
       "    </tr>\n",
       "    <tr>\n",
       "      <th>mobile postpaid</th>\n",
       "      <td>25.030</td>\n",
       "      <td>NaN</td>\n",
       "      <td>3004.950</td>\n",
       "      <td>2912.160</td>\n",
       "      <td>5942.140</td>\n",
       "    </tr>\n",
       "  </tbody>\n",
       "</table>\n",
       "</div>"
      ],
      "text/plain": [
       "Status                created   failed  fulfilled    refund     total\n",
       "product_type                                                         \n",
       "multifinance            0.910      NaN   3509.855  1511.769  5022.534\n",
       "data                   12.846      NaN   3475.949  2934.872  6423.667\n",
       "pdam                   12.324      NaN   3350.346  3459.424  6822.094\n",
       "bpjs                   14.771      NaN   3310.642  3318.464  6643.877\n",
       "electricity            25.987      NaN   3275.305  3173.585  6474.877\n",
       "electricity postpaid    2.810      NaN   3212.227  2016.619  5231.656\n",
       "games                   2.637  3047.99   3164.513       NaN  6215.140\n",
       "mobile                 32.276      NaN   3116.789  3088.038  6237.103\n",
       "e-money                33.585      NaN   3107.871  2714.357  5855.813\n",
       "mobile postpaid        25.030      NaN   3004.950  2912.160  5942.140"
      ]
     },
     "execution_count": 61,
     "metadata": {},
     "output_type": "execute_result"
    }
   ],
   "source": [
    "volume_ps.sort_values('fulfilled', ascending=False)"
   ]
  },
  {
   "cell_type": "code",
   "execution_count": 143,
   "metadata": {},
   "outputs": [
    {
     "data": {
      "image/png": "[encoded data removed]",
      "text/plain": [
       "<Figure size 432x288 with 1 Axes>"
      ]
     },
     "metadata": {
      "needs_background": "light"
     },
     "output_type": "display_data"
    }
   ],
   "source": [
    "#03.02.01.01.04 show fulfilled vertical bar chart\n",
    "ax = sbn.barplot(x='fulfilled_value', y='product_type', data=pd.DataFrame({\n",
    "    'fulfilled_value':value_ps['fulfilled']}).reset_index().sort_values(\n",
    "    'fulfilled_value', ascending=False), color='red').set(title='fulfilled value in thousands by product type')"
   ]
  },
  {
   "cell_type": "code",
   "execution_count": 142,
   "metadata": {
    "scrolled": false
   },
   "outputs": [
    {
     "data": {
      "image/png": "[encoded data removed]",
      "text/plain": [
       "<Figure size 432x288 with 1 Axes>"
      ]
     },
     "metadata": {
      "needs_background": "light"
     },
     "output_type": "display_data"
    }
   ],
   "source": [
    "ax = sbn.barplot(x='fulfilled_volume', y='product_type', data=pd.DataFrame({\n",
    "    'fulfilled_volume':volume_ps['fulfilled']}).reset_index().sort_values(\n",
    "    'fulfilled_volume', ascending=False), color='red').set(title='fulfilled volume in thousands by product type')"
   ]
  },
  {
   "cell_type": "code",
   "execution_count": 75,
   "metadata": {},
   "outputs": [],
   "source": [
    "#03.02.01.02 unit costs\n",
    "unit_cost = value_ps['total']/volume_ps['total'] "
   ]
  },
  {
   "cell_type": "code",
   "execution_count": 77,
   "metadata": {},
   "outputs": [
    {
     "data": {
      "text/plain": [
       "product_type\n",
       "multifinance            20.330489\n",
       "pdam                    13.586813\n",
       "e-money                 13.572958\n",
       "electricity postpaid    13.511242\n",
       "bpjs                    13.373775\n",
       "mobile postpaid         13.309300\n",
       "games                   11.698833\n",
       "mobile                   6.158691\n",
       "electricity              5.958828\n",
       "data                     5.565663\n",
       "Name: total, dtype: float64"
      ]
     },
     "execution_count": 77,
     "metadata": {},
     "output_type": "execute_result"
    }
   ],
   "source": [
    "unit_cost.sort_values(ascending=False)"
   ]
  },
  {
   "cell_type": "code",
   "execution_count": 141,
   "metadata": {},
   "outputs": [
    {
     "data": {
      "image/png": "[encoded data removed]",
      "text/plain": [
       "<Figure size 432x288 with 1 Axes>"
      ]
     },
     "metadata": {
      "needs_background": "light"
     },
     "output_type": "display_data"
    }
   ],
   "source": [
    "ax = sbn.barplot(x='unit_cost', y='product_type', data=pd.DataFrame({\n",
    "    'unit_cost':unit_cost}).reset_index().sort_values(\n",
    "    'unit_cost', ascending=False), color='red').set(title='unit costs by product type')"
   ]
  },
  {
   "cell_type": "code",
   "execution_count": 84,
   "metadata": {},
   "outputs": [],
   "source": [
    "#03.02.01.03 conversion rates\n",
    "conversion_rates = pd.DataFrame(\n",
    "    {'created': volume_ps['created']/volume_ps['total'],\n",
    "     'failed': volume_ps['failed']/volume_ps['total'],\n",
    "     'fulfilled': volume_ps['fulfilled']/volume_ps['total'],\n",
    "     'refunded': volume_ps['refund']/volume_ps['total']\n",
    "    }\n",
    ")"
   ]
  },
  {
   "cell_type": "code",
   "execution_count": 86,
   "metadata": {},
   "outputs": [
    {
     "data": {
      "text/html": [
       "<div>\n",
       "<style scoped>\n",
       "    .dataframe tbody tr th:only-of-type {\n",
       "        vertical-align: middle;\n",
       "    }\n",
       "\n",
       "    .dataframe tbody tr th {\n",
       "        vertical-align: top;\n",
       "    }\n",
       "\n",
       "    .dataframe thead th {\n",
       "        text-align: right;\n",
       "    }\n",
       "</style>\n",
       "<table border=\"1\" class=\"dataframe\">\n",
       "  <thead>\n",
       "    <tr style=\"text-align: right;\">\n",
       "      <th></th>\n",
       "      <th>created</th>\n",
       "      <th>failed</th>\n",
       "      <th>fulfilled</th>\n",
       "      <th>refunded</th>\n",
       "    </tr>\n",
       "    <tr>\n",
       "      <th>product_type</th>\n",
       "      <th></th>\n",
       "      <th></th>\n",
       "      <th></th>\n",
       "      <th></th>\n",
       "    </tr>\n",
       "  </thead>\n",
       "  <tbody>\n",
       "    <tr>\n",
       "      <th>multifinance</th>\n",
       "      <td>0.000181</td>\n",
       "      <td>NaN</td>\n",
       "      <td>0.698822</td>\n",
       "      <td>0.300997</td>\n",
       "    </tr>\n",
       "    <tr>\n",
       "      <th>electricity postpaid</th>\n",
       "      <td>0.000537</td>\n",
       "      <td>NaN</td>\n",
       "      <td>0.613998</td>\n",
       "      <td>0.385465</td>\n",
       "    </tr>\n",
       "    <tr>\n",
       "      <th>data</th>\n",
       "      <td>0.002000</td>\n",
       "      <td>NaN</td>\n",
       "      <td>0.541116</td>\n",
       "      <td>0.456884</td>\n",
       "    </tr>\n",
       "    <tr>\n",
       "      <th>e-money</th>\n",
       "      <td>0.005735</td>\n",
       "      <td>NaN</td>\n",
       "      <td>0.530733</td>\n",
       "      <td>0.463532</td>\n",
       "    </tr>\n",
       "    <tr>\n",
       "      <th>games</th>\n",
       "      <td>0.000424</td>\n",
       "      <td>0.490414</td>\n",
       "      <td>0.509162</td>\n",
       "      <td>NaN</td>\n",
       "    </tr>\n",
       "    <tr>\n",
       "      <th>electricity</th>\n",
       "      <td>0.004014</td>\n",
       "      <td>NaN</td>\n",
       "      <td>0.505848</td>\n",
       "      <td>0.490138</td>\n",
       "    </tr>\n",
       "    <tr>\n",
       "      <th>mobile postpaid</th>\n",
       "      <td>0.004212</td>\n",
       "      <td>NaN</td>\n",
       "      <td>0.505702</td>\n",
       "      <td>0.490086</td>\n",
       "    </tr>\n",
       "    <tr>\n",
       "      <th>mobile</th>\n",
       "      <td>0.005175</td>\n",
       "      <td>NaN</td>\n",
       "      <td>0.499717</td>\n",
       "      <td>0.495108</td>\n",
       "    </tr>\n",
       "    <tr>\n",
       "      <th>bpjs</th>\n",
       "      <td>0.002223</td>\n",
       "      <td>NaN</td>\n",
       "      <td>0.498300</td>\n",
       "      <td>0.499477</td>\n",
       "    </tr>\n",
       "    <tr>\n",
       "      <th>pdam</th>\n",
       "      <td>0.001806</td>\n",
       "      <td>NaN</td>\n",
       "      <td>0.491102</td>\n",
       "      <td>0.507091</td>\n",
       "    </tr>\n",
       "  </tbody>\n",
       "</table>\n",
       "</div>"
      ],
      "text/plain": [
       "                       created    failed  fulfilled  refunded\n",
       "product_type                                                 \n",
       "multifinance          0.000181       NaN   0.698822  0.300997\n",
       "electricity postpaid  0.000537       NaN   0.613998  0.385465\n",
       "data                  0.002000       NaN   0.541116  0.456884\n",
       "e-money               0.005735       NaN   0.530733  0.463532\n",
       "games                 0.000424  0.490414   0.509162       NaN\n",
       "electricity           0.004014       NaN   0.505848  0.490138\n",
       "mobile postpaid       0.004212       NaN   0.505702  0.490086\n",
       "mobile                0.005175       NaN   0.499717  0.495108\n",
       "bpjs                  0.002223       NaN   0.498300  0.499477\n",
       "pdam                  0.001806       NaN   0.491102  0.507091"
      ]
     },
     "execution_count": 86,
     "metadata": {},
     "output_type": "execute_result"
    }
   ],
   "source": [
    "conversion_rates.sort_values('fulfilled', ascending=False)"
   ]
  },
  {
   "cell_type": "code",
   "execution_count": 140,
   "metadata": {},
   "outputs": [
    {
     "data": {
      "image/png": "[encoded data removed]",
      "text/plain": [
       "<Figure size 432x288 with 1 Axes>"
      ]
     },
     "metadata": {
      "needs_background": "light"
     },
     "output_type": "display_data"
    }
   ],
   "source": [
    "ax = sbn.barplot(x='fulfillment_rate', y='product_type', data=pd.DataFrame({\n",
    "    'fulfillment_rate':volume_ps['fulfilled']/volume_ps['total']}).reset_index().sort_values(\n",
    "    'fulfillment_rate', ascending=False), color='red').set(title='fulfillment rate by product type')"
   ]
  },
  {
   "cell_type": "markdown",
   "metadata": {},
   "source": [
    "### 03.02.01 observations\n",
    "\n",
    "1. compared to order volume, there is higher variance in unit price between products\n",
    "2. games have a high failure rate and thus lost opportunity. for every 100 game orders fulfilled, 96 are failed\n",
    "3. multifinance is the highest product type fulfillment and total orders by value and fulfillment by volume\n",
    "4. data is the lowest product by fulfillment value, but 2nd highest fulfillment volume\n",
    "5. mobile postpaid is the lowest product by fulfillment volume, and 5th of 10 fulfillment value\n",
    "6. multifinance has the highest fulfillment rate 70%, followed by electricity postpaid 61% and all others are in a narrow range 49% - 54%"
   ]
  },
  {
   "cell_type": "markdown",
   "metadata": {},
   "source": [
    "### 03.02.01 hypothesis and assumptions\n",
    "\n",
    "1. These product status is the status of the order *at the time of querying the dataset* rather than at the timestamp. Hypothesis is based on the observation that created << fulfilled\n",
    "2. Unit price = order value / order volume"
   ]
  },
  {
   "cell_type": "markdown",
   "metadata": {},
   "source": [
    "**03.02.02 time series**\n",
    "\n",
    "horizontal bar charts\n",
    "\n",
    "all product types\n",
    "\n",
    "11. total orders (by volume) fulfilled over time by period (week?)\n",
    "12. orders failed, refunded over time\n",
    "13. conversion rates over time fulfillment %, refund %, failure%\n",
    "14. order volume by product type\n",
    "\n",
    "21 - 24 by product type (1-3)"
   ]
  },
  {
   "cell_type": "code",
   "execution_count": 91,
   "metadata": {},
   "outputs": [],
   "source": [
    "#03.02.02.00 create time series dataset\n",
    "\n",
    "#03.02.02.00.01 get the span of data, number of unique days to decide the resolution (day, week, or month?)\n",
    "no_days = (no_xfr['Date'].max() - no_xfr['Date'].min())\n",
    "no_txns = len(no_xfr)\n",
    "no_products = len(no_xfr['product_type'].unique())\n",
    "txns_per_day_per_prd = no_txns/(no_products*no_days.days)"
   ]
  },
  {
   "cell_type": "code",
   "execution_count": 118,
   "metadata": {},
   "outputs": [
    {
     "data": {
      "text/plain": [
       "2020"
      ]
     },
     "execution_count": 118,
     "metadata": {},
     "output_type": "execute_result"
    }
   ],
   "source": [
    "no_txns"
   ]
  },
  {
   "cell_type": "code",
   "execution_count": 93,
   "metadata": {},
   "outputs": [
    {
     "name": "stdout",
     "output_type": "stream",
     "text": [
      "total span 402 days and 0.50 txns per day per product\n"
     ]
    }
   ],
   "source": [
    "print('total span %s days and %.2f txns per day per product' % (no_days.days, txns_per_day_per_prd))"
   ]
  },
  {
   "cell_type": "markdown",
   "metadata": {},
   "source": [
    "at this level of resolution is < 4 txns per week and <16 txns per month. This would be 13 months total period which will be visually interesting"
   ]
  },
  {
   "cell_type": "code",
   "execution_count": 99,
   "metadata": {},
   "outputs": [],
   "source": [
    "no_xfr['month_id'] = no_xfr['Date'].apply(lambda x: (x.year-2016)*12+x.month)"
   ]
  },
  {
   "cell_type": "code",
   "execution_count": 100,
   "metadata": {},
   "outputs": [],
   "source": [
    "#03.02.02.11.01 create time series tables of order volume by month and status\n",
    "volume_ms_total = pd.pivot_table(no_xfr, values='total_order', index='month_id', aggfunc='sum') \n",
    "volume_ms = pd.pivot_table(no_xfr, values='total_order', columns='Status', index='month_id', aggfunc='sum') \n",
    "volume_ms['total'] = volume_ms_total\n",
    "\n",
    "#show units in thousands \n",
    "volume_ms = volume_ms/1000"
   ]
  },
  {
   "cell_type": "code",
   "execution_count": 101,
   "metadata": {
    "scrolled": true
   },
   "outputs": [
    {
     "data": {
      "text/html": [
       "<div>\n",
       "<style scoped>\n",
       "    .dataframe tbody tr th:only-of-type {\n",
       "        vertical-align: middle;\n",
       "    }\n",
       "\n",
       "    .dataframe tbody tr th {\n",
       "        vertical-align: top;\n",
       "    }\n",
       "\n",
       "    .dataframe thead th {\n",
       "        text-align: right;\n",
       "    }\n",
       "</style>\n",
       "<table border=\"1\" class=\"dataframe\">\n",
       "  <thead>\n",
       "    <tr style=\"text-align: right;\">\n",
       "      <th>Status</th>\n",
       "      <th>created</th>\n",
       "      <th>failed</th>\n",
       "      <th>fulfilled</th>\n",
       "      <th>refund</th>\n",
       "      <th>total</th>\n",
       "    </tr>\n",
       "    <tr>\n",
       "      <th>month_id</th>\n",
       "      <th></th>\n",
       "      <th></th>\n",
       "      <th></th>\n",
       "      <th></th>\n",
       "      <th></th>\n",
       "    </tr>\n",
       "  </thead>\n",
       "  <tbody>\n",
       "    <tr>\n",
       "      <th>1</th>\n",
       "      <td>52.926</td>\n",
       "      <td>1128.937</td>\n",
       "      <td>10960.039</td>\n",
       "      <td>7981.132</td>\n",
       "      <td>20123.034</td>\n",
       "    </tr>\n",
       "    <tr>\n",
       "      <th>2</th>\n",
       "      <td>39.599</td>\n",
       "      <td>1001.263</td>\n",
       "      <td>10260.566</td>\n",
       "      <td>7906.628</td>\n",
       "      <td>19208.056</td>\n",
       "    </tr>\n",
       "    <tr>\n",
       "      <th>3</th>\n",
       "      <td>43.030</td>\n",
       "      <td>868.568</td>\n",
       "      <td>11042.499</td>\n",
       "      <td>8919.530</td>\n",
       "      <td>20873.627</td>\n",
       "    </tr>\n",
       "    <tr>\n",
       "      <th>4</th>\n",
       "      <td>2.591</td>\n",
       "      <td>49.222</td>\n",
       "      <td>265.343</td>\n",
       "      <td>321.998</td>\n",
       "      <td>639.154</td>\n",
       "    </tr>\n",
       "    <tr>\n",
       "      <th>14</th>\n",
       "      <td>25.030</td>\n",
       "      <td>NaN</td>\n",
       "      <td>NaN</td>\n",
       "      <td>NaN</td>\n",
       "      <td>25.030</td>\n",
       "    </tr>\n",
       "  </tbody>\n",
       "</table>\n",
       "</div>"
      ],
      "text/plain": [
       "Status    created    failed  fulfilled    refund      total\n",
       "month_id                                                   \n",
       "1          52.926  1128.937  10960.039  7981.132  20123.034\n",
       "2          39.599  1001.263  10260.566  7906.628  19208.056\n",
       "3          43.030   868.568  11042.499  8919.530  20873.627\n",
       "4           2.591    49.222    265.343   321.998    639.154\n",
       "14         25.030       NaN        NaN       NaN     25.030"
      ]
     },
     "execution_count": 101,
     "metadata": {},
     "output_type": "execute_result"
    }
   ],
   "source": [
    "volume_ms"
   ]
  },
  {
   "cell_type": "code",
   "execution_count": 154,
   "metadata": {},
   "outputs": [
    {
     "data": {
      "image/png": "[encoded data removed]",
      "text/plain": [
       "<Figure size 432x288 with 1 Axes>"
      ]
     },
     "metadata": {
      "needs_background": "light"
     },
     "output_type": "display_data"
    }
   ],
   "source": [
    "ax = sbn.barplot(x='month_id', y='order_volume', data=pd.DataFrame({\n",
    "    'order_volume':volume_ms['total']}).reset_index(), color = 'red').set(title='order volume by month starting from 2016 Jan')"
   ]
  },
  {
   "cell_type": "markdown",
   "metadata": {},
   "source": [
    "so there is a big gap in the dataset, so try again with week bins and limit to the period from 1 Jan 2016 until 1 May 2016"
   ]
  },
  {
   "cell_type": "code",
   "execution_count": 104,
   "metadata": {},
   "outputs": [],
   "source": [
    "# add week field\n",
    "nx_2016 = no_xfr[no_xfr.month_id<=4].copy()\n",
    "nx_2016['week_id'] = nx_2016['Date'].apply(lambda x: x.isocalendar()[1])"
   ]
  },
  {
   "cell_type": "code",
   "execution_count": 116,
   "metadata": {},
   "outputs": [],
   "source": [
    "#03.02.02.11.02 create time series tables of order volume by week and status\n",
    "volume_ws_total = pd.pivot_table(nx_2016, values='total_order', index='week_id', aggfunc='sum') \n",
    "volume_ws = pd.pivot_table(nx_2016, values='total_order', columns='Status', index='week_id', aggfunc='sum') \n",
    "volume_ws['total'] = volume_ws_total\n",
    "\n",
    "#shift week 53 of 2015 to week 0 of 2016\n",
    "volume_ws.rename(index={53: 0}, inplace=True)\n",
    "volume_ws.sort_index(ascending=True, inplace=True)\n",
    "\n",
    "#show units in thousands \n",
    "volume_ws = volume_ws/1000"
   ]
  },
  {
   "cell_type": "code",
   "execution_count": 117,
   "metadata": {
    "scrolled": false
   },
   "outputs": [
    {
     "data": {
      "text/html": [
       "<div>\n",
       "<style scoped>\n",
       "    .dataframe tbody tr th:only-of-type {\n",
       "        vertical-align: middle;\n",
       "    }\n",
       "\n",
       "    .dataframe tbody tr th {\n",
       "        vertical-align: top;\n",
       "    }\n",
       "\n",
       "    .dataframe thead th {\n",
       "        text-align: right;\n",
       "    }\n",
       "</style>\n",
       "<table border=\"1\" class=\"dataframe\">\n",
       "  <thead>\n",
       "    <tr style=\"text-align: right;\">\n",
       "      <th>Status</th>\n",
       "      <th>created</th>\n",
       "      <th>failed</th>\n",
       "      <th>fulfilled</th>\n",
       "      <th>refund</th>\n",
       "      <th>total</th>\n",
       "    </tr>\n",
       "    <tr>\n",
       "      <th>week_id</th>\n",
       "      <th></th>\n",
       "      <th></th>\n",
       "      <th></th>\n",
       "      <th></th>\n",
       "      <th></th>\n",
       "    </tr>\n",
       "  </thead>\n",
       "  <tbody>\n",
       "    <tr>\n",
       "      <th>0</th>\n",
       "      <td>4.456</td>\n",
       "      <td>102.248</td>\n",
       "      <td>992.793</td>\n",
       "      <td>939.228</td>\n",
       "      <td>2038.725</td>\n",
       "    </tr>\n",
       "    <tr>\n",
       "      <th>1</th>\n",
       "      <td>16.201</td>\n",
       "      <td>159.049</td>\n",
       "      <td>2341.230</td>\n",
       "      <td>1623.072</td>\n",
       "      <td>4139.552</td>\n",
       "    </tr>\n",
       "    <tr>\n",
       "      <th>2</th>\n",
       "      <td>10.388</td>\n",
       "      <td>274.672</td>\n",
       "      <td>2430.539</td>\n",
       "      <td>1897.092</td>\n",
       "      <td>4612.691</td>\n",
       "    </tr>\n",
       "    <tr>\n",
       "      <th>3</th>\n",
       "      <td>4.544</td>\n",
       "      <td>288.089</td>\n",
       "      <td>2674.956</td>\n",
       "      <td>1833.494</td>\n",
       "      <td>4801.083</td>\n",
       "    </tr>\n",
       "    <tr>\n",
       "      <th>4</th>\n",
       "      <td>17.337</td>\n",
       "      <td>304.879</td>\n",
       "      <td>2520.521</td>\n",
       "      <td>1688.246</td>\n",
       "      <td>4530.983</td>\n",
       "    </tr>\n",
       "    <tr>\n",
       "      <th>5</th>\n",
       "      <td>14.363</td>\n",
       "      <td>255.789</td>\n",
       "      <td>2604.744</td>\n",
       "      <td>2026.766</td>\n",
       "      <td>4901.662</td>\n",
       "    </tr>\n",
       "    <tr>\n",
       "      <th>6</th>\n",
       "      <td>9.277</td>\n",
       "      <td>261.394</td>\n",
       "      <td>2780.413</td>\n",
       "      <td>1980.917</td>\n",
       "      <td>5032.001</td>\n",
       "    </tr>\n",
       "    <tr>\n",
       "      <th>7</th>\n",
       "      <td>9.736</td>\n",
       "      <td>251.671</td>\n",
       "      <td>2128.459</td>\n",
       "      <td>1802.177</td>\n",
       "      <td>4192.043</td>\n",
       "    </tr>\n",
       "    <tr>\n",
       "      <th>8</th>\n",
       "      <td>5.162</td>\n",
       "      <td>178.851</td>\n",
       "      <td>2331.615</td>\n",
       "      <td>1750.019</td>\n",
       "      <td>4265.647</td>\n",
       "    </tr>\n",
       "    <tr>\n",
       "      <th>9</th>\n",
       "      <td>7.915</td>\n",
       "      <td>263.753</td>\n",
       "      <td>2631.868</td>\n",
       "      <td>2124.376</td>\n",
       "      <td>5027.912</td>\n",
       "    </tr>\n",
       "    <tr>\n",
       "      <th>10</th>\n",
       "      <td>6.439</td>\n",
       "      <td>260.133</td>\n",
       "      <td>2690.487</td>\n",
       "      <td>2014.434</td>\n",
       "      <td>4971.493</td>\n",
       "    </tr>\n",
       "    <tr>\n",
       "      <th>11</th>\n",
       "      <td>12.805</td>\n",
       "      <td>208.703</td>\n",
       "      <td>2320.813</td>\n",
       "      <td>2068.624</td>\n",
       "      <td>4610.945</td>\n",
       "    </tr>\n",
       "    <tr>\n",
       "      <th>12</th>\n",
       "      <td>12.330</td>\n",
       "      <td>74.612</td>\n",
       "      <td>2447.038</td>\n",
       "      <td>2003.201</td>\n",
       "      <td>4537.181</td>\n",
       "    </tr>\n",
       "    <tr>\n",
       "      <th>13</th>\n",
       "      <td>7.193</td>\n",
       "      <td>164.147</td>\n",
       "      <td>1632.971</td>\n",
       "      <td>1377.642</td>\n",
       "      <td>3181.953</td>\n",
       "    </tr>\n",
       "  </tbody>\n",
       "</table>\n",
       "</div>"
      ],
      "text/plain": [
       "Status   created   failed  fulfilled    refund     total\n",
       "week_id                                                 \n",
       "0          4.456  102.248    992.793   939.228  2038.725\n",
       "1         16.201  159.049   2341.230  1623.072  4139.552\n",
       "2         10.388  274.672   2430.539  1897.092  4612.691\n",
       "3          4.544  288.089   2674.956  1833.494  4801.083\n",
       "4         17.337  304.879   2520.521  1688.246  4530.983\n",
       "5         14.363  255.789   2604.744  2026.766  4901.662\n",
       "6          9.277  261.394   2780.413  1980.917  5032.001\n",
       "7          9.736  251.671   2128.459  1802.177  4192.043\n",
       "8          5.162  178.851   2331.615  1750.019  4265.647\n",
       "9          7.915  263.753   2631.868  2124.376  5027.912\n",
       "10         6.439  260.133   2690.487  2014.434  4971.493\n",
       "11        12.805  208.703   2320.813  2068.624  4610.945\n",
       "12        12.330   74.612   2447.038  2003.201  4537.181\n",
       "13         7.193  164.147   1632.971  1377.642  3181.953"
      ]
     },
     "execution_count": 117,
     "metadata": {},
     "output_type": "execute_result"
    }
   ],
   "source": [
    "volume_ws"
   ]
  },
  {
   "cell_type": "code",
   "execution_count": 120,
   "metadata": {
    "scrolled": true
   },
   "outputs": [
    {
     "data": {
      "text/html": [
       "<div>\n",
       "<style scoped>\n",
       "    .dataframe tbody tr th:only-of-type {\n",
       "        vertical-align: middle;\n",
       "    }\n",
       "\n",
       "    .dataframe tbody tr th {\n",
       "        vertical-align: top;\n",
       "    }\n",
       "\n",
       "    .dataframe thead th {\n",
       "        text-align: right;\n",
       "    }\n",
       "</style>\n",
       "<table border=\"1\" class=\"dataframe\">\n",
       "  <thead>\n",
       "    <tr style=\"text-align: right;\">\n",
       "      <th>Status</th>\n",
       "      <th>created</th>\n",
       "      <th>failed</th>\n",
       "      <th>fulfilled</th>\n",
       "      <th>refund</th>\n",
       "      <th>total</th>\n",
       "    </tr>\n",
       "  </thead>\n",
       "  <tbody>\n",
       "    <tr>\n",
       "      <th>count</th>\n",
       "      <td>14.000000</td>\n",
       "      <td>14.000000</td>\n",
       "      <td>14.000000</td>\n",
       "      <td>14.000000</td>\n",
       "      <td>14.000000</td>\n",
       "    </tr>\n",
       "    <tr>\n",
       "      <th>mean</th>\n",
       "      <td>9.867571</td>\n",
       "      <td>217.713571</td>\n",
       "      <td>2323.460500</td>\n",
       "      <td>1794.949143</td>\n",
       "      <td>4345.990786</td>\n",
       "    </tr>\n",
       "    <tr>\n",
       "      <th>std</th>\n",
       "      <td>4.242019</td>\n",
       "      <td>71.218728</td>\n",
       "      <td>479.802472</td>\n",
       "      <td>319.206539</td>\n",
       "      <td>823.038271</td>\n",
       "    </tr>\n",
       "    <tr>\n",
       "      <th>min</th>\n",
       "      <td>4.456000</td>\n",
       "      <td>74.612000</td>\n",
       "      <td>992.793000</td>\n",
       "      <td>939.228000</td>\n",
       "      <td>2038.725000</td>\n",
       "    </tr>\n",
       "    <tr>\n",
       "      <th>25%</th>\n",
       "      <td>6.627500</td>\n",
       "      <td>167.823000</td>\n",
       "      <td>2323.513500</td>\n",
       "      <td>1703.689250</td>\n",
       "      <td>4210.444000</td>\n",
       "    </tr>\n",
       "    <tr>\n",
       "      <th>50%</th>\n",
       "      <td>9.506500</td>\n",
       "      <td>253.730000</td>\n",
       "      <td>2438.788500</td>\n",
       "      <td>1865.293000</td>\n",
       "      <td>4574.063000</td>\n",
       "    </tr>\n",
       "    <tr>\n",
       "      <th>75%</th>\n",
       "      <td>12.686250</td>\n",
       "      <td>263.163250</td>\n",
       "      <td>2625.087000</td>\n",
       "      <td>2011.625750</td>\n",
       "      <td>4876.517250</td>\n",
       "    </tr>\n",
       "    <tr>\n",
       "      <th>max</th>\n",
       "      <td>17.337000</td>\n",
       "      <td>304.879000</td>\n",
       "      <td>2780.413000</td>\n",
       "      <td>2124.376000</td>\n",
       "      <td>5032.001000</td>\n",
       "    </tr>\n",
       "  </tbody>\n",
       "</table>\n",
       "</div>"
      ],
      "text/plain": [
       "Status    created      failed    fulfilled       refund        total\n",
       "count   14.000000   14.000000    14.000000    14.000000    14.000000\n",
       "mean     9.867571  217.713571  2323.460500  1794.949143  4345.990786\n",
       "std      4.242019   71.218728   479.802472   319.206539   823.038271\n",
       "min      4.456000   74.612000   992.793000   939.228000  2038.725000\n",
       "25%      6.627500  167.823000  2323.513500  1703.689250  4210.444000\n",
       "50%      9.506500  253.730000  2438.788500  1865.293000  4574.063000\n",
       "75%     12.686250  263.163250  2625.087000  2011.625750  4876.517250\n",
       "max     17.337000  304.879000  2780.413000  2124.376000  5032.001000"
      ]
     },
     "execution_count": 120,
     "metadata": {},
     "output_type": "execute_result"
    }
   ],
   "source": [
    "volume_ws.describe()"
   ]
  },
  {
   "cell_type": "code",
   "execution_count": 155,
   "metadata": {},
   "outputs": [
    {
     "data": {
      "text/plain": [
       "<matplotlib.legend.Legend at 0x261d9bf2828>"
      ]
     },
     "execution_count": 155,
     "metadata": {},
     "output_type": "execute_result"
    },
    {
     "data": {
      "image/png": "[encoded data removed]",
      "text/plain": [
       "<Figure size 432x288 with 1 Axes>"
      ]
     },
     "metadata": {
      "needs_background": "light"
     },
     "output_type": "display_data"
    }
   ],
   "source": [
    "ov_by_week = volume_ws.reset_index()\n",
    "\n",
    "sbn.lineplot(data = ov_by_week['fulfilled'], marker='o', color='blue', sort = False, label = 'fulfilled')\n",
    "sbn.lineplot(data = ov_by_week['refund'], marker='o', color='black', sort = False, label = 'refund')\n",
    "sbn.lineplot(data = ov_by_week['failed'], marker='o', color='red', sort = False, label = 'failed')\n",
    "sbn.barplot(x='week_id', y='total', data=ov_by_week, alpha=0.7, label = 'total', color='grey').set(\n",
    "    title='order volume in thousands total, fulfilled, refunded and failed by week in 2016 1Q')\n",
    "\n",
    "plt.legend(bbox_to_anchor=(1.05, 1), loc=2, borderaxespad=0.)"
   ]
  },
  {
   "cell_type": "markdown",
   "metadata": {},
   "source": [
    "there is an observable drop-off in orders beginning slightly after week 10 and then rapidly from week 12 onwards. The WHO declared COVID-19 a global pandemic in week 10 and in week 13 Singapore govt announced circuit breaker"
   ]
  },
  {
   "cell_type": "code",
   "execution_count": 156,
   "metadata": {},
   "outputs": [
    {
     "data": {
      "text/plain": [
       "<matplotlib.legend.Legend at 0x261d9c1dd68>"
      ]
     },
     "execution_count": 156,
     "metadata": {},
     "output_type": "execute_result"
    },
    {
     "data": {
      "image/png": "[encoded data removed]",
      "text/plain": [
       "<Figure size 432x288 with 1 Axes>"
      ]
     },
     "metadata": {
      "needs_background": "light"
     },
     "output_type": "display_data"
    }
   ],
   "source": [
    "#03.02.02.11.03 conversion rates by week and status\n",
    "sbn.lineplot(data = ov_by_week['fulfilled']/ov_by_week['total'], marker='o', color='blue', sort = False, label = 'fulfilled')\n",
    "sbn.lineplot(data = ov_by_week['refund']/ov_by_week['total'], marker='o', color='black', sort = False, label = 'refund')\n",
    "sbn.lineplot(data = ov_by_week['failed']/ov_by_week['total'], marker='o', color='red', sort = False, label = 'failed').set(\n",
    "    title='coversion rates: fulfilled, refunded and failed by week in 2016 1Q')\n",
    "\n",
    "plt.legend(bbox_to_anchor=(1.05, 1), loc=2, borderaxespad=0.)"
   ]
  },
  {
   "cell_type": "code",
   "execution_count": 157,
   "metadata": {},
   "outputs": [
    {
     "data": {
      "text/plain": [
       "[Text(0.5, 1.0, 'fulfillment rate by week in 2016 1Q')]"
      ]
     },
     "execution_count": 157,
     "metadata": {},
     "output_type": "execute_result"
    },
    {
     "data": {
      "image/png": "[encoded data removed]",
      "text/plain": [
       "<Figure size 432x288 with 1 Axes>"
      ]
     },
     "metadata": {
      "needs_background": "light"
     },
     "output_type": "display_data"
    }
   ],
   "source": [
    "sbn.lineplot(data = ov_by_week['fulfilled']/ov_by_week['total'], \n",
    "             marker='o', color='blue', sort = False, label = 'fulfilled').set(\n",
    "    title='fulfillment rate by week in 2016 1Q')\n"
   ]
  },
  {
   "cell_type": "markdown",
   "metadata": {},
   "source": [
    "### 03.02.02 observations\n",
    "\n",
    "1. Total order volume over the whole 2016-2017 period is discontinuous, suddenly dropping off after March 2016 (COVID pandemic?) and then picking up only briefly in Feb 2017\n",
    "2. total order volume during 20161Q gradually peaked around 5 mil and then declined gradually before dropping off sharply at the end of March, with the exception of a two week dip in weeks 7 and 8 around 4.2 mil\n",
    "3. overall fulfillment rates varied on a steady downward trend from 55% in Jan 2016 to just under 53% by the end of March 2016"
   ]
  },
  {
   "cell_type": "markdown",
   "metadata": {},
   "source": [
    "### 03.02.02 hypothesis and assumptions\n",
    "\n",
    "1. Use weekly bins due to visual appeal of 13 weeks and statistical sample of ~ 15 txns per product per bin\n",
    "2. drop the outlier month 2017 Feb"
   ]
  },
  {
   "cell_type": "code",
   "execution_count": null,
   "metadata": {},
   "outputs": [],
   "source": []
  }
 ],
 "metadata": {
  "kernelspec": {
   "display_name": "Python 3",
   "language": "python",
   "name": "python3"
  },
  "language_info": {
   "codemirror_mode": {
    "name": "ipython",
    "version": 3
   },
   "file_extension": ".py",
   "mimetype": "text/x-python",
   "name": "python",
   "nbconvert_exporter": "python",
   "pygments_lexer": "ipython3",
   "version": "3.6.8"
  }
 },
 "nbformat": 4,
 "nbformat_minor": 2
}
