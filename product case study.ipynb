{
 "cells": [
  {
   "cell_type": "markdown",
   "metadata": {},
   "source": [
    "# case study : product analysis"
   ]
  },
  {
   "cell_type": "markdown",
   "metadata": {},
   "source": [
    "A strategy manager wants to get a quick snapshot of a product over a certain period of time.  Please\n",
    "\n",
    "1. Create visualization(s) to help him/her understand the performance of product through data shown in \"data\" tab. \n",
    "2. Provide a short paragraph to explain/ highlight any interesting/insightful observation."
   ]
  },
  {
   "cell_type": "markdown",
   "metadata": {},
   "source": [
    "## 01 setup\n",
    "import dependencies and load dataset"
   ]
  },
  {
   "cell_type": "code",
   "execution_count": 1,
   "metadata": {},
   "outputs": [],
   "source": [
    "import pandas as pd\n",
    "import datetime as dt\n",
    "import seaborn as sbn"
   ]
  },
  {
   "cell_type": "code",
   "execution_count": 2,
   "metadata": {},
   "outputs": [],
   "source": [
    "data = pd.read_csv('product_dataset.csv')"
   ]
  },
  {
   "cell_type": "code",
   "execution_count": 3,
   "metadata": {
    "scrolled": true
   },
   "outputs": [
    {
     "data": {
      "text/html": [
       "<div>\n",
       "<style scoped>\n",
       "    .dataframe tbody tr th:only-of-type {\n",
       "        vertical-align: middle;\n",
       "    }\n",
       "\n",
       "    .dataframe tbody tr th {\n",
       "        vertical-align: top;\n",
       "    }\n",
       "\n",
       "    .dataframe thead th {\n",
       "        text-align: right;\n",
       "    }\n",
       "</style>\n",
       "<table border=\"1\" class=\"dataframe\">\n",
       "  <thead>\n",
       "    <tr style=\"text-align: right;\">\n",
       "      <th></th>\n",
       "      <th>Date</th>\n",
       "      <th>Product Type</th>\n",
       "      <th>Status</th>\n",
       "      <th>Total Order</th>\n",
       "      <th>Total GMV</th>\n",
       "    </tr>\n",
       "  </thead>\n",
       "  <tbody>\n",
       "    <tr>\n",
       "      <th>0</th>\n",
       "      <td>02/01/2016</td>\n",
       "      <td>bpjs</td>\n",
       "      <td>created</td>\n",
       "      <td>913</td>\n",
       "      <td>5,492</td>\n",
       "    </tr>\n",
       "    <tr>\n",
       "      <th>1</th>\n",
       "      <td>04/01/2016</td>\n",
       "      <td>bpjs</td>\n",
       "      <td>created</td>\n",
       "      <td>915</td>\n",
       "      <td>4,510</td>\n",
       "    </tr>\n",
       "    <tr>\n",
       "      <th>2</th>\n",
       "      <td>05/01/2016</td>\n",
       "      <td>bpjs</td>\n",
       "      <td>created</td>\n",
       "      <td>639</td>\n",
       "      <td>6,896</td>\n",
       "    </tr>\n",
       "    <tr>\n",
       "      <th>3</th>\n",
       "      <td>06/01/2016</td>\n",
       "      <td>bpjs</td>\n",
       "      <td>created</td>\n",
       "      <td>234</td>\n",
       "      <td>6,153</td>\n",
       "    </tr>\n",
       "    <tr>\n",
       "      <th>4</th>\n",
       "      <td>08/01/2016</td>\n",
       "      <td>bpjs</td>\n",
       "      <td>created</td>\n",
       "      <td>533</td>\n",
       "      <td>8,292</td>\n",
       "    </tr>\n",
       "  </tbody>\n",
       "</table>\n",
       "</div>"
      ],
      "text/plain": [
       "         Date Product Type   Status Total Order Total GMV\n",
       "0  02/01/2016         bpjs  created         913     5,492\n",
       "1  04/01/2016         bpjs  created         915     4,510\n",
       "2  05/01/2016         bpjs  created         639     6,896\n",
       "3  06/01/2016         bpjs  created         234     6,153\n",
       "4  08/01/2016         bpjs  created         533     8,292"
      ]
     },
     "execution_count": 3,
     "metadata": {},
     "output_type": "execute_result"
    }
   ],
   "source": [
    "data.head()"
   ]
  },
  {
   "cell_type": "markdown",
   "metadata": {},
   "source": [
    "## 02 dataset description\n"
   ]
  },
  {
   "cell_type": "markdown",
   "metadata": {},
   "source": [
    "*Fields*\n",
    "\n",
    "The dataset contains the following fields\n",
    "\n",
    "| field | description |\n",
    "| --- | --- |\n",
    "| Date | — |\n",
    "| Product Type | — |\n",
    "| Status | see status table below |\n",
    "| Total Order | Order units? Not defined in the Data dictionary provided |\n",
    "| GMV | Gross Merchandise Value. The total amount a customer should pay for a successfully completed order. |"
   ]
  },
  {
   "cell_type": "markdown",
   "metadata": {},
   "source": [
    "*Status types*\n",
    "\n",
    "Four product stages were listed, with the presumed sequence in the illustration below\n",
    "\n",
    "| Status | Description |\n",
    "| --- | --- |\n",
    "| Created | The order only until customer receive orderId |\n",
    "| Failed | Bug in the system |\n",
    "| Fulfilled | The order was successfully completed |\n",
    "| Refund | The order was successfully refunded to customers |"
   ]
  },
  {
   "cell_type": "code",
   "execution_count": 4,
   "metadata": {},
   "outputs": [
    {
     "data": {
      "image/png": "[encoded data removed]",
      "text/plain": [
       "<IPython.core.display.Image object>"
      ]
     },
     "execution_count": 4,
     "metadata": {},
     "output_type": "execute_result"
    }
   ],
   "source": [
    "from IPython.display import Image\n",
    "Image(filename='product stages.png')"
   ]
  },
  {
   "cell_type": "markdown",
   "metadata": {},
   "source": [
    "## 03 analysis \n",
    "### 03.01 basic description"
   ]
  },
  {
   "cell_type": "markdown",
   "metadata": {},
   "source": [
    "Two basic lines of enquiries are proposed for the initial analysis\n",
    "\n",
    "1. Cross-section analysis by stage and product type\n",
    "2. Time series\n",
    "\n",
    "There is no orderid provided, so cycle time by order is not possible, but stock-flow analysis is possible by product type."
   ]
  },
  {
   "cell_type": "code",
   "execution_count": null,
   "metadata": {},
   "outputs": [],
   "source": []
  }
 ],
 "metadata": {
  "kernelspec": {
   "display_name": "Python 3",
   "language": "python",
   "name": "python3"
  },
  "language_info": {
   "codemirror_mode": {
    "name": "ipython",
    "version": 3
   },
   "file_extension": ".py",
   "mimetype": "text/x-python",
   "name": "python",
   "nbconvert_exporter": "python",
   "pygments_lexer": "ipython3",
   "version": "3.6.8"
  }
 },
 "nbformat": 4,
 "nbformat_minor": 2
}
